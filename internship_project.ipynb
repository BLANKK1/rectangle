{
 "cells": [
  {
   "cell_type": "code",
   "execution_count": 3,
   "id": "a8ec368b-c812-46a5-8ae1-7b80a336f1de",
   "metadata": {},
   "outputs": [
    {
     "data": {
      "image/png": "[encoded data removed]",
      "text/plain": [
       "<Figure size 640x480 with 1 Axes>"
      ]
     },
     "metadata": {},
     "output_type": "display_data"
    }
   ],
   "source": [
    "import matplotlib.pyplot as plt\n",
    "import matplotlib.patches as patches\n",
    "import random\n",
    "\n",
    "class Rectangle:\n",
    "    def __init__(self, width, height):\n",
    "        self.width = width\n",
    "        self.height = height\n",
    "        self.rotated = False\n",
    "\n",
    "    def area(self):\n",
    "        return self.width * self.height\n",
    "\n",
    "    def rotate(self):\n",
    "        self.width, self.height = self.height, self.width\n",
    "        self.rotated = not self.rotated\n",
    "\n",
    "class Space:\n",
    "    def __init__(self, width, height):\n",
    "        self.width = width\n",
    "        self.height = height\n",
    "        self.rectangles = []\n",
    "\n",
    "    def place_rectangle(self, rectangle):\n",
    "        if self.width < rectangle.width or self.height < rectangle.height:\n",
    "            return False\n",
    "        if self.width >= rectangle.width and self.height >= rectangle.height:\n",
    "            self.rectangles.append((rectangle, (0, 0)))\n",
    "            return True\n",
    "        if self.width >= rectangle.height and self.height >= rectangle.width:\n",
    "            rectangle.rotate()\n",
    "            self.rectangles.append((rectangle, (0, 0)))\n",
    "            return True\n",
    "        return self._place_rectangle_recursive(rectangle, 0, 0)\n",
    "\n",
    "    def _place_rectangle_recursive(self, rectangle, x, y):\n",
    "        if x + rectangle.width > self.width or y + rectangle.height > self.height:\n",
    "            return False\n",
    "        if all(not (rx <= x + rectangle.width and rx + r.width > x and ry <= y + rectangle.height and ry + r.height > y) for r, (rx, ry) in self.rectangles):\n",
    "            self.rectangles.append((rectangle, (x, y)))\n",
    "            return True\n",
    "        mid_x = x + self.width // 2\n",
    "        mid_y = y + self.height // 2\n",
    "        if self._place_rectangle_recursive(rectangle, x, y):\n",
    "            return True\n",
    "        if self._place_rectangle_recursive(rectangle, mid_x, y):\n",
    "            return True\n",
    "        if self._place_rectangle_recursive(rectangle, x, mid_y):\n",
    "            return True\n",
    "        if self._place_rectangle_recursive(rectangle, mid_x, mid_y):\n",
    "            return True\n",
    "        return False\n",
    "\n",
    "    def plot(self):\n",
    "        fig, ax = plt.subplots()\n",
    "        for rectangle, (x, y) in self.rectangles:\n",
    "            rect = patches.Rectangle((x, y), rectangle.width, rectangle.height, linewidth=1, edgecolor='black', facecolor='none')\n",
    "            ax.add_patch(rect)\n",
    "            ax.text(x + rectangle.width / 2, y + rectangle.height / 2, f\"({rectangle.width}, {rectangle.height}) {'R' if rectangle.rotated else ''}\", ha='center', va='center')\n",
    "        ax.set_xlim(0, self.width)\n",
    "        ax.set_ylim(0, self.height)\n",
    "        plt.show()\n",
    "\n",
    "# Generate 5 random rectangles\n",
    "rectangles = [Rectangle(*[random.randint(1, 50) for _ in range(2)]) for _ in range(5)]\n",
    "\n",
    "# Create a 100x100 space\n",
    "space = Space(100, 100)\n",
    "\n",
    "# Place rectangles in the space\n",
    "for rectangle in rectangles:\n",
    "    if not space.place_rectangle(rectangle):\n",
    "        print(\"Error: Cannot place rectangle\")\n",
    "        break\n",
    "else:\n",
    "    space.plot()"
   ]
  },
  {
   "cell_type": "code",
   "execution_count": null,
   "id": "b9cf368f-3dfd-4940-9672-f810396041e5",
   "metadata": {},
   "outputs": [],
   "source": []
  }
 ],
 "metadata": {
  "kernelspec": {
   "display_name": "Python 3 (ipykernel)",
   "language": "python",
   "name": "python3"
  },
  "language_info": {
   "codemirror_mode": {
    "name": "ipython",
    "version": 3
   },
   "file_extension": ".py",
   "mimetype": "text/x-python",
   "name": "python",
   "nbconvert_exporter": "python",
   "pygments_lexer": "ipython3",
   "version": "3.12.4"
  }
 },
 "nbformat": 4,
 "nbformat_minor": 5
}
